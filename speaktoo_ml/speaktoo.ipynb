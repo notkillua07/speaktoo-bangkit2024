{
 "cells": [
  {
   "cell_type": "code",
   "execution_count": 1,
   "metadata": {},
   "outputs": [],
   "source": [
    "import deepspeech\n",
    "import numpy as np\n",
    "import wave\n",
    "from pydub import AudioSegment\n",
    "import os\n"
   ]
  },
  {
   "cell_type": "code",
   "execution_count": 1,
   "metadata": {},
   "outputs": [
    {
     "data": {
      "text/plain": [
       "<_io.BufferedRandom name='hello.wav'>"
      ]
     },
     "execution_count": 1,
     "metadata": {},
     "output_type": "execute_result"
    }
   ],
   "source": [
    "from pydub import AudioSegment\n",
    "\n",
    "# Load the audio file (replace \"full/path/to/hello_example.m4a\" with the actual path)\n",
    "audio = AudioSegment.from_file(\"hello_example.m4a\")\n",
    "\n",
    "# Convert audio to the required format\n",
    "audio = audio.set_frame_rate(16000).set_channels(1).set_sample_width(2)\n",
    "\n",
    "# Export the audio to WAV format\n",
    "audio.export(\"hello.wav\", format='wav')"
   ]
  },
  {
   "cell_type": "code",
   "execution_count": 2,
   "metadata": {},
   "outputs": [
    {
     "name": "stdout",
     "output_type": "stream",
     "text": [
      "Transcribed Text: this is the reference passage that the use of wire at the indiscreet and accurate\n"
     ]
    }
   ],
   "source": [
    "import deepspeech\n",
    "import numpy as np\n",
    "import wave\n",
    "from pydub import AudioSegment\n",
    "\n",
    "# Convert audio to required format\n",
    "def convert_audio(input_file, output_file):\n",
    "    audio = AudioSegment.from_file(input_file)\n",
    "    audio = audio.set_frame_rate(16000).set_channels(1).set_sample_width(2)\n",
    "    audio.export(output_file, format='wav')\n",
    "\n",
    "# Read the WAV file\n",
    "def read_wav_file(filename):\n",
    "    with wave.open(filename, 'rb') as wf:\n",
    "        sample_rate = wf.getframerate()\n",
    "        assert sample_rate == 16000, 'Only 16000Hz input WAV files are supported.'\n",
    "        audio = np.frombuffer(wf.readframes(wf.getnframes()), dtype=np.int16)\n",
    "    return audio\n",
    "\n",
    "# Absolute paths to model and scorer files\n",
    "model_file_path = \".deepspeech-model/deepspeech-0.9.3-models.pbmm\"\n",
    "scorer_file_path = \".deepspeech-model/deepspeech-0.9.3-models.scorer\"\n",
    "\n",
    "# Check if model and scorer files are accessible\n",
    "try:\n",
    "    with open(model_file_path, 'rb') as f:\n",
    "        pass\n",
    "    with open(scorer_file_path, 'rb') as f:\n",
    "        pass\n",
    "except Exception as e:\n",
    "    print(f\"Error accessing model or scorer file: {e}\")\n",
    "    raise\n",
    "\n",
    "# Load the model and scorer\n",
    "model = deepspeech.Model(model_file_path)\n",
    "model.enableExternalScorer(scorer_file_path)\n",
    "\n",
    "# Paths to your audio files\n",
    "input_audio_file = \".audio_files/input/trialv.m4a\"\n",
    "converted_audio_file = \".audio_files/output/trialv.wav\"\n",
    "\n",
    "# Convert and transcribe\n",
    "convert_audio(input_audio_file, converted_audio_file)\n",
    "audio_data = read_wav_file(converted_audio_file)\n",
    "transcribed_text = model.stt(audio_data)\n",
    "\n",
    "print('Transcribed Text:', transcribed_text)"
   ]
  },
  {
   "cell_type": "code",
   "execution_count": 4,
   "metadata": {},
   "outputs": [
    {
     "name": "stdout",
     "output_type": "stream",
     "text": [
      "Pronunciation Accuracy: 43.75%\n",
      "Feedback on Pronunciation:\n",
      "Expected \"user\", but got \"use\" at word position 8.\n",
      "Expected \"will\", but got \"of\" at word position 9.\n",
      "Expected \"read.\", but got \"wire\" at word position 10.\n",
      "Expected \"Ensure\", but got \"at\" at word position 11.\n",
      "Expected \"it\", but got \"the\" at word position 12.\n",
      "Expected \"is\", but got \"indiscreet\" at word position 13.\n",
      "Expected \"clear\", but got \"and\" at word position 14.\n",
      "Expected \"and\", but got \"accurate\" at word position 15.\n",
      "Missing word \"accurate.\" at position 16.\n"
     ]
    }
   ],
   "source": [
    "# Reference passage\n",
    "reference_passage = \"This is the reference passage that the user will read. Ensure it is clear and accurate.\"\n",
    "\n",
    "# Function to compare the transcribed text with the reference passage\n",
    "def analyze_pronunciation(reference, transcribed):\n",
    "    ref_words = reference.split()\n",
    "    trans_words = transcribed.split()\n",
    "    \n",
    "    feedback = []\n",
    "    correct_count = 0\n",
    "    total_count = len(ref_words)\n",
    "    \n",
    "    for i, ref_word in enumerate(ref_words):\n",
    "        if i < len(trans_words):\n",
    "            trans_word = trans_words[i]\n",
    "            if ref_word.lower() == trans_word.lower():\n",
    "                correct_count += 1\n",
    "            else:\n",
    "                feedback.append(f'Expected \"{ref_word}\", but got \"{trans_word}\" at word position {i + 1}.')\n",
    "        else:\n",
    "            feedback.append(f'Missing word \"{ref_word}\" at position {i + 1}.')\n",
    "    \n",
    "    if len(trans_words) > len(ref_words):\n",
    "        for j in range(len(ref_words), len(trans_words)):\n",
    "            feedback.append(f'Extra word \"{trans_words[j]}\" at position {j + 1}.')\n",
    "    \n",
    "    accuracy = (correct_count / total_count) * 100\n",
    "    return accuracy, feedback\n",
    "\n",
    "# Analyze pronunciation and calculate accuracy\n",
    "accuracy, feedback = analyze_pronunciation(reference_passage, transcribed_text)\n",
    "\n",
    "# Provide feedback\n",
    "print(f\"Pronunciation Accuracy: {accuracy:.2f}%\")\n",
    "print(\"Feedback on Pronunciation:\")\n",
    "for msg in feedback:\n",
    "    print(msg)"
   ]
  }
 ],
 "metadata": {
  "kernelspec": {
   "display_name": "deepspeech-env",
   "language": "python",
   "name": "python3"
  },
  "language_info": {
   "codemirror_mode": {
    "name": "ipython",
    "version": 3
   },
   "file_extension": ".py",
   "mimetype": "text/x-python",
   "name": "python",
   "nbconvert_exporter": "python",
   "pygments_lexer": "ipython3",
   "version": "3.8.10"
  }
 },
 "nbformat": 4,
 "nbformat_minor": 2
}
