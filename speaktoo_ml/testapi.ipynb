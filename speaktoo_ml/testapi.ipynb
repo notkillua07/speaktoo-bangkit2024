{
 "cells": [
  {
   "cell_type": "code",
   "execution_count": 2,
   "metadata": {},
   "outputs": [],
   "source": [
    "from fastapi import FastAPI\n",
    "\n",
    "app = FastAPI()\n",
    "\n",
    "@app.get(\"/get-message\")\n",
    "async def read_root():\n",
    "    return {\"Message\" : \"test\"}"
   ]
  },
  {
   "cell_type": "code",
   "execution_count": 2,
   "metadata": {},
   "outputs": [
    {
     "name": "stdout",
     "output_type": "stream",
     "text": [
      "{'transcription': 'this is the reference passage that the user will read and shure it is clear and accurate', 'accuracy': 81.25, 'feedback': ['Mispronounced or missing word \"read.\".', 'Mispronounced or missing word \"Ensure\".', 'Mispronounced or missing word \"accurate.\".', 'Extra word \"accurate\".'], 'wrong_words': ['read.', 'Ensure', 'accurate.']}\n"
     ]
    }
   ],
   "source": [
    "import requests\n",
    "\n",
    "url = \"http://127.0.0.1:8000/transcribe/\"\n",
    "file_path = \"C:/Users/asus/Documents/VS/speaktoo-bangkit2024/speaktoo_ml/.audio_files/output/trialy.wav\"\n",
    "reference_text = \"This is the reference passage that the user will read. Ensure it is clear and accurate.\"\n",
    "\n",
    "with open(file_path, \"rb\") as file:\n",
    "    response = requests.post(url, files={\"file\": file}, data={\"reference_passage\": reference_text})\n",
    "\n",
    "print(response.json())"
   ]
  }
 ],
 "metadata": {
  "kernelspec": {
   "display_name": "Python 3",
   "language": "python",
   "name": "python3"
  },
  "language_info": {
   "codemirror_mode": {
    "name": "ipython",
    "version": 3
   },
   "file_extension": ".py",
   "mimetype": "text/x-python",
   "name": "python",
   "nbconvert_exporter": "python",
   "pygments_lexer": "ipython3",
   "version": "3.8.10"
  }
 },
 "nbformat": 4,
 "nbformat_minor": 2
}
